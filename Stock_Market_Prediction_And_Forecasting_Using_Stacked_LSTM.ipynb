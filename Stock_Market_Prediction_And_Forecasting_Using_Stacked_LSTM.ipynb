{
  "nbformat": 4,
  "nbformat_minor": 0,
  "metadata": {
    "colab": {
      "provenance": []
    },
    "kernelspec": {
      "name": "python3",
      "display_name": "Python 3"
    },
    "language_info": {
      "name": "python"
    }
  },
  "cells": [
    {
      "cell_type": "markdown",
      "source": [
        "# Importing Necessary Libraries and Dataset"
      ],
      "metadata": {
        "id": "RcIC_4xHd0Cw"
      }
    },
    {
      "cell_type": "code",
      "execution_count": 1,
      "metadata": {
        "id": "CYTtkZG2Hy1z"
      },
      "outputs": [],
      "source": [
        "import pandas as pd\n",
        "import numpy as np\n",
        "import matplotlib.pyplot as plt\n",
        "import seaborn as sns\n",
        "%matplotlib inline"
      ]
    },
    {
      "cell_type": "code",
      "source": [
        "data = pd.read_csv('stock_data.csv')"
      ],
      "metadata": {
        "id": "QHbf3SFleLFU"
      },
      "execution_count": 17,
      "outputs": []
    },
    {
      "cell_type": "code",
      "source": [
        "data.head(10)"
      ],
      "metadata": {
        "colab": {
          "base_uri": "https://localhost:8080/",
          "height": 380
        },
        "id": "Ll4GQjjPevaS",
        "outputId": "85d323fd-955a-4b2d-bdbe-6e878ca62522"
      },
      "execution_count": 18,
      "outputs": [
        {
          "output_type": "execute_result",
          "data": {
            "text/plain": [
              "         Date    Open    High     Low    Last   Close  Total Trade Quantity  \\\n",
              "0  28/09/2018  234.05  235.95  230.20  233.50  233.75               3069914   \n",
              "1  27/09/2018  234.55  236.80  231.10  233.80  233.25               5082859   \n",
              "2  26/09/2018  240.00  240.00  232.50  235.00  234.25               2240909   \n",
              "3  25/09/2018  233.30  236.75  232.00  236.25  236.10               2349368   \n",
              "4  24/09/2018  233.55  239.20  230.75  234.00  233.30               3423509   \n",
              "5  21/09/2018  235.00  237.00  227.95  233.75  234.60               5395319   \n",
              "6  19/09/2018  235.95  237.20  233.45  234.60  234.90               1362058   \n",
              "7  18/09/2018  237.90  239.25  233.50  235.50  235.05               2614794   \n",
              "8  17/09/2018  233.15  238.00  230.25  236.40  236.60               3170894   \n",
              "9  14/09/2018  223.45  236.70  223.30  234.00  233.95               6377909   \n",
              "\n",
              "   Turnover (Lacs)  \n",
              "0          7162.35  \n",
              "1         11859.95  \n",
              "2          5248.60  \n",
              "3          5503.90  \n",
              "4          7999.55  \n",
              "5         12589.59  \n",
              "6          3202.78  \n",
              "7          6163.70  \n",
              "8          7445.41  \n",
              "9         14784.50  "
            ],
            "text/html": [
              "\n",
              "  <div id=\"df-24ec44ef-f762-42f9-bf01-f422a0ccf5a9\" class=\"colab-df-container\">\n",
              "    <div>\n",
              "<style scoped>\n",
              "    .dataframe tbody tr th:only-of-type {\n",
              "        vertical-align: middle;\n",
              "    }\n",
              "\n",
              "    .dataframe tbody tr th {\n",
              "        vertical-align: top;\n",
              "    }\n",
              "\n",
              "    .dataframe thead th {\n",
              "        text-align: right;\n",
              "    }\n",
              "</style>\n",
              "<table border=\"1\" class=\"dataframe\">\n",
              "  <thead>\n",
              "    <tr style=\"text-align: right;\">\n",
              "      <th></th>\n",
              "      <th>Date</th>\n",
              "      <th>Open</th>\n",
              "      <th>High</th>\n",
              "      <th>Low</th>\n",
              "      <th>Last</th>\n",
              "      <th>Close</th>\n",
              "      <th>Total Trade Quantity</th>\n",
              "      <th>Turnover (Lacs)</th>\n",
              "    </tr>\n",
              "  </thead>\n",
              "  <tbody>\n",
              "    <tr>\n",
              "      <th>0</th>\n",
              "      <td>28/09/2018</td>\n",
              "      <td>234.05</td>\n",
              "      <td>235.95</td>\n",
              "      <td>230.20</td>\n",
              "      <td>233.50</td>\n",
              "      <td>233.75</td>\n",
              "      <td>3069914</td>\n",
              "      <td>7162.35</td>\n",
              "    </tr>\n",
              "    <tr>\n",
              "      <th>1</th>\n",
              "      <td>27/09/2018</td>\n",
              "      <td>234.55</td>\n",
              "      <td>236.80</td>\n",
              "      <td>231.10</td>\n",
              "      <td>233.80</td>\n",
              "      <td>233.25</td>\n",
              "      <td>5082859</td>\n",
              "      <td>11859.95</td>\n",
              "    </tr>\n",
              "    <tr>\n",
              "      <th>2</th>\n",
              "      <td>26/09/2018</td>\n",
              "      <td>240.00</td>\n",
              "      <td>240.00</td>\n",
              "      <td>232.50</td>\n",
              "      <td>235.00</td>\n",
              "      <td>234.25</td>\n",
              "      <td>2240909</td>\n",
              "      <td>5248.60</td>\n",
              "    </tr>\n",
              "    <tr>\n",
              "      <th>3</th>\n",
              "      <td>25/09/2018</td>\n",
              "      <td>233.30</td>\n",
              "      <td>236.75</td>\n",
              "      <td>232.00</td>\n",
              "      <td>236.25</td>\n",
              "      <td>236.10</td>\n",
              "      <td>2349368</td>\n",
              "      <td>5503.90</td>\n",
              "    </tr>\n",
              "    <tr>\n",
              "      <th>4</th>\n",
              "      <td>24/09/2018</td>\n",
              "      <td>233.55</td>\n",
              "      <td>239.20</td>\n",
              "      <td>230.75</td>\n",
              "      <td>234.00</td>\n",
              "      <td>233.30</td>\n",
              "      <td>3423509</td>\n",
              "      <td>7999.55</td>\n",
              "    </tr>\n",
              "    <tr>\n",
              "      <th>5</th>\n",
              "      <td>21/09/2018</td>\n",
              "      <td>235.00</td>\n",
              "      <td>237.00</td>\n",
              "      <td>227.95</td>\n",
              "      <td>233.75</td>\n",
              "      <td>234.60</td>\n",
              "      <td>5395319</td>\n",
              "      <td>12589.59</td>\n",
              "    </tr>\n",
              "    <tr>\n",
              "      <th>6</th>\n",
              "      <td>19/09/2018</td>\n",
              "      <td>235.95</td>\n",
              "      <td>237.20</td>\n",
              "      <td>233.45</td>\n",
              "      <td>234.60</td>\n",
              "      <td>234.90</td>\n",
              "      <td>1362058</td>\n",
              "      <td>3202.78</td>\n",
              "    </tr>\n",
              "    <tr>\n",
              "      <th>7</th>\n",
              "      <td>18/09/2018</td>\n",
              "      <td>237.90</td>\n",
              "      <td>239.25</td>\n",
              "      <td>233.50</td>\n",
              "      <td>235.50</td>\n",
              "      <td>235.05</td>\n",
              "      <td>2614794</td>\n",
              "      <td>6163.70</td>\n",
              "    </tr>\n",
              "    <tr>\n",
              "      <th>8</th>\n",
              "      <td>17/09/2018</td>\n",
              "      <td>233.15</td>\n",
              "      <td>238.00</td>\n",
              "      <td>230.25</td>\n",
              "      <td>236.40</td>\n",
              "      <td>236.60</td>\n",
              "      <td>3170894</td>\n",
              "      <td>7445.41</td>\n",
              "    </tr>\n",
              "    <tr>\n",
              "      <th>9</th>\n",
              "      <td>14/09/2018</td>\n",
              "      <td>223.45</td>\n",
              "      <td>236.70</td>\n",
              "      <td>223.30</td>\n",
              "      <td>234.00</td>\n",
              "      <td>233.95</td>\n",
              "      <td>6377909</td>\n",
              "      <td>14784.50</td>\n",
              "    </tr>\n",
              "  </tbody>\n",
              "</table>\n",
              "</div>\n",
              "    <div class=\"colab-df-buttons\">\n",
              "\n",
              "  <div class=\"colab-df-container\">\n",
              "    <button class=\"colab-df-convert\" onclick=\"convertToInteractive('df-24ec44ef-f762-42f9-bf01-f422a0ccf5a9')\"\n",
              "            title=\"Convert this dataframe to an interactive table.\"\n",
              "            style=\"display:none;\">\n",
              "\n",
              "  <svg xmlns=\"http://www.w3.org/2000/svg\" height=\"24px\" viewBox=\"0 -960 960 960\">\n",
              "    <path d=\"M120-120v-720h720v720H120Zm60-500h600v-160H180v160Zm220 220h160v-160H400v160Zm0 220h160v-160H400v160ZM180-400h160v-160H180v160Zm440 0h160v-160H620v160ZM180-180h160v-160H180v160Zm440 0h160v-160H620v160Z\"/>\n",
              "  </svg>\n",
              "    </button>\n",
              "\n",
              "  <style>\n",
              "    .colab-df-container {\n",
              "      display:flex;\n",
              "      gap: 12px;\n",
              "    }\n",
              "\n",
              "    .colab-df-convert {\n",
              "      background-color: #E8F0FE;\n",
              "      border: none;\n",
              "      border-radius: 50%;\n",
              "      cursor: pointer;\n",
              "      display: none;\n",
              "      fill: #1967D2;\n",
              "      height: 32px;\n",
              "      padding: 0 0 0 0;\n",
              "      width: 32px;\n",
              "    }\n",
              "\n",
              "    .colab-df-convert:hover {\n",
              "      background-color: #E2EBFA;\n",
              "      box-shadow: 0px 1px 2px rgba(60, 64, 67, 0.3), 0px 1px 3px 1px rgba(60, 64, 67, 0.15);\n",
              "      fill: #174EA6;\n",
              "    }\n",
              "\n",
              "    .colab-df-buttons div {\n",
              "      margin-bottom: 4px;\n",
              "    }\n",
              "\n",
              "    [theme=dark] .colab-df-convert {\n",
              "      background-color: #3B4455;\n",
              "      fill: #D2E3FC;\n",
              "    }\n",
              "\n",
              "    [theme=dark] .colab-df-convert:hover {\n",
              "      background-color: #434B5C;\n",
              "      box-shadow: 0px 1px 3px 1px rgba(0, 0, 0, 0.15);\n",
              "      filter: drop-shadow(0px 1px 2px rgba(0, 0, 0, 0.3));\n",
              "      fill: #FFFFFF;\n",
              "    }\n",
              "  </style>\n",
              "\n",
              "    <script>\n",
              "      const buttonEl =\n",
              "        document.querySelector('#df-24ec44ef-f762-42f9-bf01-f422a0ccf5a9 button.colab-df-convert');\n",
              "      buttonEl.style.display =\n",
              "        google.colab.kernel.accessAllowed ? 'block' : 'none';\n",
              "\n",
              "      async function convertToInteractive(key) {\n",
              "        const element = document.querySelector('#df-24ec44ef-f762-42f9-bf01-f422a0ccf5a9');\n",
              "        const dataTable =\n",
              "          await google.colab.kernel.invokeFunction('convertToInteractive',\n",
              "                                                    [key], {});\n",
              "        if (!dataTable) return;\n",
              "\n",
              "        const docLinkHtml = 'Like what you see? Visit the ' +\n",
              "          '<a target=\"_blank\" href=https://colab.research.google.com/notebooks/data_table.ipynb>data table notebook</a>'\n",
              "          + ' to learn more about interactive tables.';\n",
              "        element.innerHTML = '';\n",
              "        dataTable['output_type'] = 'display_data';\n",
              "        await google.colab.output.renderOutput(dataTable, element);\n",
              "        const docLink = document.createElement('div');\n",
              "        docLink.innerHTML = docLinkHtml;\n",
              "        element.appendChild(docLink);\n",
              "      }\n",
              "    </script>\n",
              "  </div>\n",
              "\n",
              "\n",
              "<div id=\"df-fd2e495b-fbe4-445a-b6fc-4554ffb217eb\">\n",
              "  <button class=\"colab-df-quickchart\" onclick=\"quickchart('df-fd2e495b-fbe4-445a-b6fc-4554ffb217eb')\"\n",
              "            title=\"Suggest charts.\"\n",
              "            style=\"display:none;\">\n",
              "\n",
              "<svg xmlns=\"http://www.w3.org/2000/svg\" height=\"24px\"viewBox=\"0 0 24 24\"\n",
              "     width=\"24px\">\n",
              "    <g>\n",
              "        <path d=\"M19 3H5c-1.1 0-2 .9-2 2v14c0 1.1.9 2 2 2h14c1.1 0 2-.9 2-2V5c0-1.1-.9-2-2-2zM9 17H7v-7h2v7zm4 0h-2V7h2v10zm4 0h-2v-4h2v4z\"/>\n",
              "    </g>\n",
              "</svg>\n",
              "  </button>\n",
              "\n",
              "<style>\n",
              "  .colab-df-quickchart {\n",
              "    background-color: #E8F0FE;\n",
              "    border: none;\n",
              "    border-radius: 50%;\n",
              "    cursor: pointer;\n",
              "    display: none;\n",
              "    fill: #1967D2;\n",
              "    height: 32px;\n",
              "    padding: 0 0 0 0;\n",
              "    width: 32px;\n",
              "  }\n",
              "\n",
              "  .colab-df-quickchart:hover {\n",
              "    background-color: #E2EBFA;\n",
              "    box-shadow: 0px 1px 2px rgba(60, 64, 67, 0.3), 0px 1px 3px 1px rgba(60, 64, 67, 0.15);\n",
              "    fill: #174EA6;\n",
              "  }\n",
              "\n",
              "  [theme=dark] .colab-df-quickchart {\n",
              "    background-color: #3B4455;\n",
              "    fill: #D2E3FC;\n",
              "  }\n",
              "\n",
              "  [theme=dark] .colab-df-quickchart:hover {\n",
              "    background-color: #434B5C;\n",
              "    box-shadow: 0px 1px 3px 1px rgba(0, 0, 0, 0.15);\n",
              "    filter: drop-shadow(0px 1px 2px rgba(0, 0, 0, 0.3));\n",
              "    fill: #FFFFFF;\n",
              "  }\n",
              "</style>\n",
              "\n",
              "  <script>\n",
              "    async function quickchart(key) {\n",
              "      const charts = await google.colab.kernel.invokeFunction(\n",
              "          'suggestCharts', [key], {});\n",
              "    }\n",
              "    (() => {\n",
              "      let quickchartButtonEl =\n",
              "        document.querySelector('#df-fd2e495b-fbe4-445a-b6fc-4554ffb217eb button');\n",
              "      quickchartButtonEl.style.display =\n",
              "        google.colab.kernel.accessAllowed ? 'block' : 'none';\n",
              "    })();\n",
              "  </script>\n",
              "</div>\n",
              "    </div>\n",
              "  </div>\n"
            ]
          },
          "metadata": {},
          "execution_count": 18
        }
      ]
    },
    {
      "cell_type": "code",
      "source": [
        "data_open = data.reset_index()['High']\n",
        "data_open"
      ],
      "metadata": {
        "colab": {
          "base_uri": "https://localhost:8080/"
        },
        "id": "eu8u8XpZgGpa",
        "outputId": "546dc09b-a190-48b0-f951-809e2e4d125d"
      },
      "execution_count": 19,
      "outputs": [
        {
          "output_type": "execute_result",
          "data": {
            "text/plain": [
              "0       235.95\n",
              "1       236.80\n",
              "2       240.00\n",
              "3       236.75\n",
              "4       239.20\n",
              "         ...  \n",
              "2030    119.50\n",
              "2031    121.00\n",
              "2032    121.95\n",
              "2033    122.00\n",
              "2034    123.00\n",
              "Name: High, Length: 2035, dtype: float64"
            ]
          },
          "metadata": {},
          "execution_count": 19
        }
      ]
    },
    {
      "cell_type": "markdown",
      "source": [
        "# Data Analysis And Preprocessing"
      ],
      "metadata": {
        "id": "8cpxPguRfCW_"
      }
    },
    {
      "cell_type": "code",
      "source": [
        "data_open.shape"
      ],
      "metadata": {
        "colab": {
          "base_uri": "https://localhost:8080/"
        },
        "id": "otAaBeyHfF72",
        "outputId": "84edb9ed-5d21-44f7-fb14-67569223adb9"
      },
      "execution_count": 21,
      "outputs": [
        {
          "output_type": "execute_result",
          "data": {
            "text/plain": [
              "(2035,)"
            ]
          },
          "metadata": {},
          "execution_count": 21
        }
      ]
    },
    {
      "cell_type": "code",
      "source": [
        "plt.plot(data_open)"
      ],
      "metadata": {
        "colab": {
          "base_uri": "https://localhost:8080/",
          "height": 447
        },
        "id": "g06NaxsafH2_",
        "outputId": "919d142c-d874-47e6-c19c-2ae95ab67b66"
      },
      "execution_count": 22,
      "outputs": [
        {
          "output_type": "execute_result",
          "data": {
            "text/plain": [
              "[<matplotlib.lines.Line2D at 0x7c8801cfd1b0>]"
            ]
          },
          "metadata": {},
          "execution_count": 22
        },
        {
          "output_type": "display_data",
          "data": {
            "text/plain": [
              "<Figure size 640x480 with 1 Axes>"
            ],
            "image/png": "[encoded data removed]"
          },
          "metadata": {}
        }
      ]
    },
    {
      "cell_type": "code",
      "source": [
        "# scaling the data using minmax scaler\n",
        "\n",
        "from sklearn.preprocessing import MinMaxScaler\n",
        "scaler = MinMaxScaler(feature_range = (0,1))\n",
        "data_open = scaler.fit_transform(np.array(data_open).reshape(-1,1))\n",
        "\n",
        "data_open.shape"
      ],
      "metadata": {
        "colab": {
          "base_uri": "https://localhost:8080/"
        },
        "id": "A1s8W4pYfaAI",
        "outputId": "0e8a25dd-21be-43f6-81c0-baa530b92eb5"
      },
      "execution_count": 24,
      "outputs": [
        {
          "output_type": "execute_result",
          "data": {
            "text/plain": [
              "(2035, 1)"
            ]
          },
          "metadata": {},
          "execution_count": 24
        }
      ]
    },
    {
      "cell_type": "code",
      "source": [
        "data_open"
      ],
      "metadata": {
        "colab": {
          "base_uri": "https://localhost:8080/"
        },
        "id": "nhWhF9Auf9EL",
        "outputId": "381b16b4-a9f7-4d41-d4a0-4c567e61da27"
      },
      "execution_count": 25,
      "outputs": [
        {
          "output_type": "execute_result",
          "data": {
            "text/plain": [
              "array([[0.62268754],\n",
              "       [0.62614353],\n",
              "       [0.6391543 ],\n",
              "       ...,\n",
              "       [0.15917869],\n",
              "       [0.15938199],\n",
              "       [0.16344786]])"
            ]
          },
          "metadata": {},
          "execution_count": 25
        }
      ]
    },
    {
      "cell_type": "markdown",
      "source": [
        "# Splitting Data for Testing And Training\n",
        "\n",
        "Here, we have time series data , so we cannot used random seed to split our data."
      ],
      "metadata": {
        "id": "IyjcjhHgiAlx"
      }
    },
    {
      "cell_type": "code",
      "source": [
        "train = int(len(data_open)*0.70)\n",
        "test = len(data_open)-train\n",
        "train_data , test_data = data_open[0:train,:],data_open[train:len(data_open),:1]"
      ],
      "metadata": {
        "id": "vmEGCymUh5_O"
      },
      "execution_count": 26,
      "outputs": []
    },
    {
      "cell_type": "code",
      "source": [
        "print(\"Training data size is : \", train)\n",
        "print(\"Test data size is : \", test)"
      ],
      "metadata": {
        "colab": {
          "base_uri": "https://localhost:8080/"
        },
        "id": "1dv5VdiyjE0R",
        "outputId": "258ccc9e-0eed-4ce4-b540-57b9b0ed41ba"
      },
      "execution_count": 28,
      "outputs": [
        {
          "output_type": "stream",
          "name": "stdout",
          "text": [
            "Training data size is :  1424\n",
            "Test data size is :  611\n"
          ]
        }
      ]
    },
    {
      "cell_type": "code",
      "source": [
        "def back_test(dataset , time_step=1):\n",
        "  Xdata, Ydata = [],[]\n",
        "  for i in range(len(dataset)-time_step-1):\n",
        "    a = dataset[i:(i+time_step),0]\n",
        "    Xdata.append(a)\n",
        "    Ydata.append(dataset[i+time_step , 0])\n",
        "  return np.array(Xdata) , np.array(Ydata)"
      ],
      "metadata": {
        "id": "9wYb0ZPVjZba"
      },
      "execution_count": 34,
      "outputs": []
    },
    {
      "cell_type": "code",
      "source": [
        "time_step  = 100\n",
        "X_train, y_train = back_test(train_data, time_step)\n",
        "X_test, y_test = back_test(test_data, time_step)"
      ],
      "metadata": {
        "id": "4PoKEmbCnLX4"
      },
      "execution_count": 35,
      "outputs": []
    },
    {
      "cell_type": "code",
      "source": [
        "X_test.shape"
      ],
      "metadata": {
        "colab": {
          "base_uri": "https://localhost:8080/"
        },
        "id": "zPx8G0B6oyuC",
        "outputId": "ef119083-6b0a-457a-87a5-4fab5b91e173"
      },
      "execution_count": 38,
      "outputs": [
        {
          "output_type": "execute_result",
          "data": {
            "text/plain": [
              "(510, 100)"
            ]
          },
          "metadata": {},
          "execution_count": 38
        }
      ]
    },
    {
      "cell_type": "code",
      "source": [
        "# reshaping the training and testing data\n",
        "\n",
        "X_train = X_train.reshape(X_train.shape[0],X_train.shape[1],1)\n",
        "X_test = X_test.reshape(X_test.shape[0],X_test.shape[1],1)\n",
        "\n",
        "X_test.shape"
      ],
      "metadata": {
        "colab": {
          "base_uri": "https://localhost:8080/"
        },
        "id": "zh3XLosCnjFU",
        "outputId": "ed7b5422-0f40-46af-d7f0-25d07973fc92"
      },
      "execution_count": 41,
      "outputs": [
        {
          "output_type": "execute_result",
          "data": {
            "text/plain": [
              "(510, 100, 1)"
            ]
          },
          "metadata": {},
          "execution_count": 41
        }
      ]
    },
    {
      "cell_type": "markdown",
      "source": [
        "# Creating the LTSM Model"
      ],
      "metadata": {
        "id": "Xc72TzXxpIWB"
      }
    },
    {
      "cell_type": "code",
      "source": [
        "from tensorflow.keras.models import Sequential\n",
        "from tensorflow.keras.layers import Dense\n",
        "from tensorflow.keras.layers import LSTM"
      ],
      "metadata": {
        "id": "gWx6Hr-UpGcw"
      },
      "execution_count": 44,
      "outputs": []
    },
    {
      "cell_type": "code",
      "source": [
        "model = Sequential()\n",
        "model.add(LSTM(50,return_sequences=True,input_shape=(100,1)))\n",
        "model.add(LSTM(50,return_sequences=True))\n",
        "model.add(LSTM(50))\n",
        "model.add(Dense(1))\n",
        "model.compile(loss='mean_squared_error',  optimizer = 'adam')"
      ],
      "metadata": {
        "id": "ieisq1qwpfCR"
      },
      "execution_count": 46,
      "outputs": []
    },
    {
      "cell_type": "code",
      "source": [
        "model.summary()"
      ],
      "metadata": {
        "colab": {
          "base_uri": "https://localhost:8080/"
        },
        "id": "fYLPpFkCp_PG",
        "outputId": "a3513b52-bb86-4ebc-b186-747d9745b3d8"
      },
      "execution_count": 47,
      "outputs": [
        {
          "output_type": "stream",
          "name": "stdout",
          "text": [
            "Model: \"sequential_1\"\n",
            "_________________________________________________________________\n",
            " Layer (type)                Output Shape              Param #   \n",
            "=================================================================\n",
            " lstm_3 (LSTM)               (None, 100, 50)           10400     \n",
            "                                                                 \n",
            " lstm_4 (LSTM)               (None, 100, 50)           20200     \n",
            "                                                                 \n",
            " lstm_5 (LSTM)               (None, 50)                20200     \n",
            "                                                                 \n",
            " dense (Dense)               (None, 1)                 51        \n",
            "                                                                 \n",
            "=================================================================\n",
            "Total params: 50,851\n",
            "Trainable params: 50,851\n",
            "Non-trainable params: 0\n",
            "_________________________________________________________________\n"
          ]
        }
      ]
    },
    {
      "cell_type": "code",
      "source": [
        "model.fit(X_train, y_train, validation_data = (X_test, y_test), epochs=100, batch_size=64, verbose = 1)"
      ],
      "metadata": {
        "colab": {
          "base_uri": "https://localhost:8080/"
        },
        "id": "H4vFbRMgqHrh",
        "outputId": "3c11c9cb-195f-4b92-8e06-8df653b24eeb"
      },
      "execution_count": 49,
      "outputs": [
        {
          "output_type": "stream",
          "name": "stdout",
          "text": [
            "Epoch 1/100\n",
            "21/21 [==============================] - 16s 444ms/step - loss: 0.0215 - val_loss: 0.0089\n",
            "Epoch 2/100\n",
            "21/21 [==============================] - 6s 254ms/step - loss: 0.0027 - val_loss: 6.9763e-04\n",
            "Epoch 3/100\n",
            "21/21 [==============================] - 4s 192ms/step - loss: 0.0016 - val_loss: 0.0013\n",
            "Epoch 4/100\n",
            "21/21 [==============================] - 6s 273ms/step - loss: 0.0015 - val_loss: 0.0011\n",
            "Epoch 5/100\n",
            "21/21 [==============================] - 5s 217ms/step - loss: 0.0015 - val_loss: 0.0012\n",
            "Epoch 6/100\n",
            "21/21 [==============================] - 4s 189ms/step - loss: 0.0014 - val_loss: 9.2782e-04\n",
            "Epoch 7/100\n",
            "21/21 [==============================] - 4s 205ms/step - loss: 0.0012 - val_loss: 8.2406e-04\n",
            "Epoch 8/100\n",
            "21/21 [==============================] - 4s 210ms/step - loss: 0.0012 - val_loss: 7.9146e-04\n",
            "Epoch 9/100\n",
            "21/21 [==============================] - 4s 181ms/step - loss: 0.0011 - val_loss: 7.4381e-04\n",
            "Epoch 10/100\n",
            "21/21 [==============================] - 5s 245ms/step - loss: 0.0010 - val_loss: 7.6803e-04\n",
            "Epoch 11/100\n",
            "21/21 [==============================] - 4s 187ms/step - loss: 0.0010 - val_loss: 7.9278e-04\n",
            "Epoch 12/100\n",
            "21/21 [==============================] - 4s 186ms/step - loss: 9.6107e-04 - val_loss: 6.7265e-04\n",
            "Epoch 13/100\n",
            "21/21 [==============================] - 5s 237ms/step - loss: 9.5826e-04 - val_loss: 9.0147e-04\n",
            "Epoch 14/100\n",
            "21/21 [==============================] - 4s 187ms/step - loss: 9.1434e-04 - val_loss: 8.0028e-04\n",
            "Epoch 15/100\n",
            "21/21 [==============================] - 4s 184ms/step - loss: 8.9495e-04 - val_loss: 0.0010\n",
            "Epoch 16/100\n",
            "21/21 [==============================] - 6s 278ms/step - loss: 8.8430e-04 - val_loss: 6.6942e-04\n",
            "Epoch 17/100\n",
            "21/21 [==============================] - 4s 196ms/step - loss: 8.7625e-04 - val_loss: 9.0120e-04\n",
            "Epoch 18/100\n",
            "21/21 [==============================] - 5s 252ms/step - loss: 8.2602e-04 - val_loss: 7.8260e-04\n",
            "Epoch 19/100\n",
            "21/21 [==============================] - 5s 241ms/step - loss: 8.2014e-04 - val_loss: 9.2484e-04\n",
            "Epoch 20/100\n",
            "21/21 [==============================] - 4s 191ms/step - loss: 9.6606e-04 - val_loss: 0.0013\n",
            "Epoch 21/100\n",
            "21/21 [==============================] - 4s 196ms/step - loss: 9.8652e-04 - val_loss: 8.4900e-04\n",
            "Epoch 22/100\n",
            "21/21 [==============================] - 5s 230ms/step - loss: 9.1739e-04 - val_loss: 8.6486e-04\n",
            "Epoch 23/100\n",
            "21/21 [==============================] - 4s 195ms/step - loss: 7.3101e-04 - val_loss: 5.2320e-04\n",
            "Epoch 24/100\n",
            "21/21 [==============================] - 5s 242ms/step - loss: 6.9185e-04 - val_loss: 8.1743e-04\n",
            "Epoch 25/100\n",
            "21/21 [==============================] - 4s 195ms/step - loss: 6.8678e-04 - val_loss: 6.6146e-04\n",
            "Epoch 26/100\n",
            "21/21 [==============================] - 4s 193ms/step - loss: 6.6716e-04 - val_loss: 7.3357e-04\n",
            "Epoch 27/100\n",
            "21/21 [==============================] - 6s 314ms/step - loss: 6.4474e-04 - val_loss: 4.8276e-04\n",
            "Epoch 28/100\n",
            "21/21 [==============================] - 4s 192ms/step - loss: 6.6402e-04 - val_loss: 6.3825e-04\n",
            "Epoch 29/100\n",
            "21/21 [==============================] - 4s 196ms/step - loss: 7.1584e-04 - val_loss: 9.0849e-04\n",
            "Epoch 30/100\n",
            "21/21 [==============================] - 5s 256ms/step - loss: 6.8588e-04 - val_loss: 8.7773e-04\n",
            "Epoch 31/100\n",
            "21/21 [==============================] - 4s 194ms/step - loss: 7.0921e-04 - val_loss: 7.4765e-04\n",
            "Epoch 32/100\n",
            "21/21 [==============================] - 4s 192ms/step - loss: 7.0532e-04 - val_loss: 9.3881e-04\n",
            "Epoch 33/100\n",
            "21/21 [==============================] - 5s 253ms/step - loss: 6.4148e-04 - val_loss: 7.4778e-04\n",
            "Epoch 34/100\n",
            "21/21 [==============================] - 4s 194ms/step - loss: 6.2847e-04 - val_loss: 5.2154e-04\n",
            "Epoch 35/100\n",
            "21/21 [==============================] - 4s 206ms/step - loss: 6.2672e-04 - val_loss: 8.6698e-04\n",
            "Epoch 36/100\n",
            "21/21 [==============================] - 5s 230ms/step - loss: 5.8393e-04 - val_loss: 8.4169e-04\n",
            "Epoch 37/100\n",
            "21/21 [==============================] - 4s 196ms/step - loss: 5.9527e-04 - val_loss: 5.9389e-04\n",
            "Epoch 38/100\n",
            "21/21 [==============================] - 5s 248ms/step - loss: 6.4038e-04 - val_loss: 6.2037e-04\n",
            "Epoch 39/100\n",
            "21/21 [==============================] - 4s 191ms/step - loss: 5.8751e-04 - val_loss: 7.1077e-04\n",
            "Epoch 40/100\n",
            "21/21 [==============================] - 4s 189ms/step - loss: 6.0591e-04 - val_loss: 7.8235e-04\n",
            "Epoch 41/100\n",
            "21/21 [==============================] - 5s 244ms/step - loss: 6.1152e-04 - val_loss: 5.8975e-04\n",
            "Epoch 42/100\n",
            "21/21 [==============================] - 4s 189ms/step - loss: 6.0270e-04 - val_loss: 5.7294e-04\n",
            "Epoch 43/100\n",
            "21/21 [==============================] - 4s 190ms/step - loss: 5.3505e-04 - val_loss: 5.8293e-04\n",
            "Epoch 44/100\n",
            "21/21 [==============================] - 5s 251ms/step - loss: 5.3466e-04 - val_loss: 6.5322e-04\n",
            "Epoch 45/100\n",
            "21/21 [==============================] - 4s 191ms/step - loss: 5.9974e-04 - val_loss: 4.6365e-04\n",
            "Epoch 46/100\n",
            "21/21 [==============================] - 4s 191ms/step - loss: 5.3601e-04 - val_loss: 6.2330e-04\n",
            "Epoch 47/100\n",
            "21/21 [==============================] - 5s 251ms/step - loss: 4.8497e-04 - val_loss: 4.7508e-04\n",
            "Epoch 48/100\n",
            "21/21 [==============================] - 4s 187ms/step - loss: 4.8803e-04 - val_loss: 5.4044e-04\n",
            "Epoch 49/100\n",
            "21/21 [==============================] - 4s 189ms/step - loss: 4.8266e-04 - val_loss: 5.1452e-04\n",
            "Epoch 50/100\n",
            "21/21 [==============================] - 5s 240ms/step - loss: 5.7140e-04 - val_loss: 4.8622e-04\n",
            "Epoch 51/100\n",
            "21/21 [==============================] - 4s 186ms/step - loss: 4.7861e-04 - val_loss: 4.7453e-04\n",
            "Epoch 52/100\n",
            "21/21 [==============================] - 4s 189ms/step - loss: 5.2602e-04 - val_loss: 4.4002e-04\n",
            "Epoch 53/100\n",
            "21/21 [==============================] - 5s 245ms/step - loss: 5.5924e-04 - val_loss: 7.0013e-04\n",
            "Epoch 54/100\n",
            "21/21 [==============================] - 4s 189ms/step - loss: 5.7791e-04 - val_loss: 4.7455e-04\n",
            "Epoch 55/100\n",
            "21/21 [==============================] - 4s 191ms/step - loss: 4.5242e-04 - val_loss: 4.7241e-04\n",
            "Epoch 56/100\n",
            "21/21 [==============================] - 5s 250ms/step - loss: 4.7448e-04 - val_loss: 4.9321e-04\n",
            "Epoch 57/100\n",
            "21/21 [==============================] - 4s 193ms/step - loss: 4.4575e-04 - val_loss: 6.5332e-04\n",
            "Epoch 58/100\n",
            "21/21 [==============================] - 5s 265ms/step - loss: 4.7371e-04 - val_loss: 4.6193e-04\n",
            "Epoch 59/100\n",
            "21/21 [==============================] - 5s 226ms/step - loss: 4.3859e-04 - val_loss: 5.2552e-04\n",
            "Epoch 60/100\n",
            "21/21 [==============================] - 4s 191ms/step - loss: 4.1059e-04 - val_loss: 4.4433e-04\n",
            "Epoch 61/100\n",
            "21/21 [==============================] - 5s 226ms/step - loss: 4.3154e-04 - val_loss: 3.7848e-04\n",
            "Epoch 62/100\n",
            "21/21 [==============================] - 5s 210ms/step - loss: 4.2765e-04 - val_loss: 3.4390e-04\n",
            "Epoch 63/100\n",
            "21/21 [==============================] - 4s 188ms/step - loss: 4.2925e-04 - val_loss: 5.1613e-04\n",
            "Epoch 64/100\n",
            "21/21 [==============================] - 5s 229ms/step - loss: 3.9959e-04 - val_loss: 5.2444e-04\n",
            "Epoch 65/100\n",
            "21/21 [==============================] - 4s 208ms/step - loss: 4.4328e-04 - val_loss: 3.1067e-04\n",
            "Epoch 66/100\n",
            "21/21 [==============================] - 4s 200ms/step - loss: 4.2577e-04 - val_loss: 3.3786e-04\n",
            "Epoch 67/100\n",
            "21/21 [==============================] - 5s 252ms/step - loss: 3.8730e-04 - val_loss: 4.2398e-04\n",
            "Epoch 68/100\n",
            "21/21 [==============================] - 4s 196ms/step - loss: 3.6435e-04 - val_loss: 3.7222e-04\n",
            "Epoch 69/100\n",
            "21/21 [==============================] - 4s 191ms/step - loss: 3.6696e-04 - val_loss: 3.0740e-04\n",
            "Epoch 70/100\n",
            "21/21 [==============================] - 5s 250ms/step - loss: 3.6463e-04 - val_loss: 3.4130e-04\n",
            "Epoch 71/100\n",
            "21/21 [==============================] - 4s 192ms/step - loss: 3.8515e-04 - val_loss: 2.8866e-04\n",
            "Epoch 72/100\n",
            "21/21 [==============================] - 4s 193ms/step - loss: 3.5538e-04 - val_loss: 3.7566e-04\n",
            "Epoch 73/100\n",
            "21/21 [==============================] - 5s 254ms/step - loss: 3.3259e-04 - val_loss: 3.3917e-04\n",
            "Epoch 74/100\n",
            "21/21 [==============================] - 4s 194ms/step - loss: 3.2437e-04 - val_loss: 3.0432e-04\n",
            "Epoch 75/100\n",
            "21/21 [==============================] - 4s 193ms/step - loss: 3.2053e-04 - val_loss: 3.3256e-04\n",
            "Epoch 76/100\n",
            "21/21 [==============================] - 5s 259ms/step - loss: 3.2626e-04 - val_loss: 2.6771e-04\n",
            "Epoch 77/100\n",
            "21/21 [==============================] - 4s 195ms/step - loss: 3.4834e-04 - val_loss: 2.6472e-04\n",
            "Epoch 78/100\n",
            "21/21 [==============================] - 4s 209ms/step - loss: 3.0887e-04 - val_loss: 2.9482e-04\n",
            "Epoch 79/100\n",
            "21/21 [==============================] - 5s 246ms/step - loss: 2.8597e-04 - val_loss: 3.0960e-04\n",
            "Epoch 80/100\n",
            "21/21 [==============================] - 4s 198ms/step - loss: 2.9841e-04 - val_loss: 4.1173e-04\n",
            "Epoch 81/100\n",
            "21/21 [==============================] - 5s 231ms/step - loss: 2.8734e-04 - val_loss: 2.7500e-04\n",
            "Epoch 82/100\n",
            "21/21 [==============================] - 5s 215ms/step - loss: 2.8491e-04 - val_loss: 2.5719e-04\n",
            "Epoch 83/100\n",
            "21/21 [==============================] - 4s 197ms/step - loss: 2.8435e-04 - val_loss: 2.4824e-04\n",
            "Epoch 84/100\n",
            "21/21 [==============================] - 5s 262ms/step - loss: 3.1943e-04 - val_loss: 2.1426e-04\n",
            "Epoch 85/100\n",
            "21/21 [==============================] - 4s 211ms/step - loss: 3.0437e-04 - val_loss: 2.1302e-04\n",
            "Epoch 86/100\n",
            "21/21 [==============================] - 4s 200ms/step - loss: 2.5992e-04 - val_loss: 2.5645e-04\n",
            "Epoch 87/100\n",
            "21/21 [==============================] - 5s 259ms/step - loss: 2.4639e-04 - val_loss: 2.6511e-04\n",
            "Epoch 88/100\n",
            "21/21 [==============================] - 4s 200ms/step - loss: 2.5156e-04 - val_loss: 3.2689e-04\n",
            "Epoch 89/100\n",
            "21/21 [==============================] - 4s 199ms/step - loss: 2.5936e-04 - val_loss: 2.7802e-04\n",
            "Epoch 90/100\n",
            "21/21 [==============================] - 5s 258ms/step - loss: 2.3687e-04 - val_loss: 2.6653e-04\n",
            "Epoch 91/100\n",
            "21/21 [==============================] - 4s 205ms/step - loss: 2.4208e-04 - val_loss: 2.2918e-04\n",
            "Epoch 92/100\n",
            "21/21 [==============================] - 4s 211ms/step - loss: 2.2083e-04 - val_loss: 2.0609e-04\n",
            "Epoch 93/100\n",
            "21/21 [==============================] - 5s 235ms/step - loss: 2.2016e-04 - val_loss: 2.0947e-04\n",
            "Epoch 94/100\n",
            "21/21 [==============================] - 4s 199ms/step - loss: 2.2881e-04 - val_loss: 2.2911e-04\n",
            "Epoch 95/100\n",
            "21/21 [==============================] - 6s 271ms/step - loss: 2.3243e-04 - val_loss: 2.2575e-04\n",
            "Epoch 96/100\n",
            "21/21 [==============================] - 4s 202ms/step - loss: 2.5085e-04 - val_loss: 4.0992e-04\n",
            "Epoch 97/100\n",
            "21/21 [==============================] - 4s 203ms/step - loss: 2.9814e-04 - val_loss: 2.6033e-04\n",
            "Epoch 98/100\n",
            "21/21 [==============================] - 5s 263ms/step - loss: 2.1270e-04 - val_loss: 2.3709e-04\n",
            "Epoch 99/100\n",
            "21/21 [==============================] - 4s 202ms/step - loss: 2.1749e-04 - val_loss: 2.5638e-04\n",
            "Epoch 100/100\n",
            "21/21 [==============================] - 4s 203ms/step - loss: 2.1352e-04 - val_loss: 2.2113e-04\n"
          ]
        },
        {
          "output_type": "execute_result",
          "data": {
            "text/plain": [
              "<keras.callbacks.History at 0x7c87a7dfb310>"
            ]
          },
          "metadata": {},
          "execution_count": 49
        }
      ]
    },
    {
      "cell_type": "code",
      "source": [
        "import tensorflow as tf"
      ],
      "metadata": {
        "id": "W-V_fQdYqYSA"
      },
      "execution_count": 50,
      "outputs": []
    },
    {
      "cell_type": "code",
      "source": [
        "train_predict = model.predict(X_train)\n",
        "test_predict = model.predict(X_test)"
      ],
      "metadata": {
        "colab": {
          "base_uri": "https://localhost:8080/"
        },
        "id": "ohVC_nKAsMrF",
        "outputId": "0de432f1-54a5-49a8-a091-84ead171d22f"
      },
      "execution_count": 51,
      "outputs": [
        {
          "output_type": "stream",
          "name": "stdout",
          "text": [
            "42/42 [==============================] - 3s 38ms/step\n",
            "16/16 [==============================] - 1s 58ms/step\n"
          ]
        }
      ]
    },
    {
      "cell_type": "code",
      "source": [
        "train_predict = scaler.inverse_transform(train_predict)\n",
        "test_predict = scaler.inverse_transform(test_predict)"
      ],
      "metadata": {
        "id": "KEQx6GqHspkx"
      },
      "execution_count": 52,
      "outputs": []
    },
    {
      "cell_type": "code",
      "source": [
        "import math\n",
        "from sklearn.metrics import mean_squared_error\n",
        "math.sqrt(mean_squared_error(y_train, train_predict))"
      ],
      "metadata": {
        "colab": {
          "base_uri": "https://localhost:8080/"
        },
        "id": "xj9r0_Tfs15B",
        "outputId": "364e2ad8-c420-4c93-d0f0-520eafe1d105"
      },
      "execution_count": 53,
      "outputs": [
        {
          "output_type": "execute_result",
          "data": {
            "text/plain": [
              "166.6194155818111"
            ]
          },
          "metadata": {},
          "execution_count": 53
        }
      ]
    },
    {
      "cell_type": "code",
      "source": [
        "math.sqrt(mean_squared_error(y_test, test_predict))"
      ],
      "metadata": {
        "colab": {
          "base_uri": "https://localhost:8080/"
        },
        "id": "Sj38oMbztDLQ",
        "outputId": "ebdbc704-f0aa-45ec-e887-d35ef7e0ca44"
      },
      "execution_count": 55,
      "outputs": [
        {
          "output_type": "execute_result",
          "data": {
            "text/plain": [
              "110.26455612671872"
            ]
          },
          "metadata": {},
          "execution_count": 55
        }
      ]
    },
    {
      "cell_type": "markdown",
      "source": [
        "# Plotting the Predicted And Actual Data"
      ],
      "metadata": {
        "id": "NVJSi-XAtRuc"
      }
    },
    {
      "cell_type": "code",
      "source": [
        "#shoft train predictions for plotting\n",
        "lookback = 100\n",
        "trainPredictPlot = np.empty_like(data_open)\n",
        "trainPredictPlot[:,:] = np.nan\n",
        "trainPredictPlot[lookback:len(train_predict)+lookback,:] = train_predict\n",
        "\n",
        "#shift test predictions for plotting\n",
        "testPredictPlot = np.empty_like(data_open)\n",
        "testPredictPlot[:,:] = np.nan\n",
        "testPredictPlot[len(train_predict)+(lookback*2)+1:len(data_open)-1,:] = test_predict\n",
        "\n",
        "#plot the baseline and predictions\n",
        "plt.plot(scaler.inverse_transform(data_open))\n",
        "plt.plot(trainPredictPlot)\n",
        "plt.plot(testPredictPlot)\n",
        "plt.show()"
      ],
      "metadata": {
        "colab": {
          "base_uri": "https://localhost:8080/",
          "height": 430
        },
        "id": "9e6tUMIjtRTk",
        "outputId": "5f5251b5-d1a1-4442-bcf4-22825d4228f2"
      },
      "execution_count": 60,
      "outputs": [
        {
          "output_type": "display_data",
          "data": {
            "text/plain": [
              "<Figure size 640x480 with 1 Axes>"
            ],
            "image/png": "[encoded data removed]"
          },
          "metadata": {}
        }
      ]
    }
  ]
}